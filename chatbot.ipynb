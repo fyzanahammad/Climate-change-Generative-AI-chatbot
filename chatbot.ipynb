{
 "cells": [
  {
   "cell_type": "code",
   "execution_count": null,
   "metadata": {},
   "outputs": [],
   "source": [
    "import wikipediaapi\n",
    "\n",
    "def extract_climate_change_info():\n",
    "    # Create a Wikipedia object\n",
    "    wiki = wikipediaapi.Wikipedia('en')\n",
    "\n",
    "    # Search query for climate change\n",
    "    search_query = \"climate change\"\n",
    "\n",
    "    # Perform the search\n",
    "    search_results = wiki.search(search_query)\n",
    "\n",
    "    # List to store extracted information\n",
    "    all_pages_info = []\n",
    "\n",
    "    # Iterate over search results\n",
    "    for result in search_results:\n",
    "        page = wiki.page(result)\n",
    "\n",
    "        # Check if the page exists and extract information\n",
    "        if page.exists():\n",
    "            # Extract summary and full text\n",
    "            summary = page.summary\n",
    "            full_text = page.text\n",
    "\n",
    "            # Append information to the list\n",
    "            all_pages_info.append({\"title\": result, \"summary\": summary, \"full_text\": full_text})\n",
    "\n",
    "    return all_pages_info\n",
    "\n",
    "# Call the function to extract information\n",
    "all_pages_info = extract_climate_change_info()\n",
    "\n",
    "# Print information from all pages\n",
    "for page_info in all_pages_info:\n",
    "    print(\"Title:\", page_info[\"title\"])\n",
    "    print(\"Summary:\", page_info[\"summary\"])\n",
    "    print(\"Full Text:\", page_info[\"full_text\"])\n",
    "    print(\"---------------------\")\n"
   ]
  }
 ],
 "metadata": {
  "kernelspec": {
   "display_name": "isl",
   "language": "python",
   "name": "python3"
  },
  "language_info": {
   "name": "python",
   "version": "3.10.6"
  }
 },
 "nbformat": 4,
 "nbformat_minor": 2
}
